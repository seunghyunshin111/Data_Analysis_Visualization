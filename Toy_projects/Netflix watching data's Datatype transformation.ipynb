{
 "cells": [
  {
   "cell_type": "markdown",
   "metadata": {},
   "source": [
    "# Netflix watching data's Datatype transformation\n",
    "## 넷플릭스 시청 데이터로 알아보는 데이터형 변환"
   ]
  },
  {
   "cell_type": "code",
   "execution_count": 1,
   "metadata": {},
   "outputs": [
    {
     "name": "stdout",
     "output_type": "stream",
     "text": [
      "{'1': '1012', '2': '3781', '3': '1732', '4': '889', '5': '2345', '6': '107', '7': '379'}\n"
     ]
    }
   ],
   "source": [
    "# 텍스트 파일을 불러옵니다.\n",
    "source_file = \"c:/Toy_projects/data/netflix.txt\"\n",
    "\n",
    "def make_dictionary(filename):\n",
    "    user_to_titles = {}\n",
    "    with open(filename) as file:\n",
    "        for line in file:\n",
    "            # 아래 코드를 작성하세요.\n",
    "            user, title = line.strip().split(':')\n",
    "            user_to_titles[user] = title\n",
    "            \n",
    "            \n",
    "            \n",
    "        return user_to_titles\n",
    "\n",
    "\n",
    "# 아래 주석을 해제하고 결과를 확인해보세요.  \n",
    "print(make_dictionary(source_file))\n"
   ]
  },
  {
   "cell_type": "markdown",
   "metadata": {},
   "source": [
    "## Data"
   ]
  },
  {
   "cell_type": "code",
   "execution_count": 2,
   "metadata": {},
   "outputs": [
    {
     "name": "stdout",
     "output_type": "stream",
     "text": [
      "{1: 3, 2: 4, 3: 1, 4: 7, 5: 5}\n"
     ]
    }
   ],
   "source": [
    "# 사용자가 시청한 작품의 리스트를 저장합니다. 수정하지 마세요. \n",
    "user_to_titles = {\n",
    "    1: [271, 318, 491],\n",
    "    2: [318, 19, 2980, 475],\n",
    "    3: [475],\n",
    "    4: [271, 318, 491, 2980, 19, 318, 475],\n",
    "    5: [882, 91, 2980, 557, 35],\n",
    "}\n",
    "def get_user_to_num_titles(user_to_titles):\n",
    "    user_to_num_titles = {}\n",
    "    \n",
    "    # 아래 함수를 완성하세요.\n",
    "    for user, titles in user_to_titles.items():\n",
    "        user_to_num_titles[user] = len(titles)\n",
    "    \n",
    "    \n",
    "    return user_to_num_titles\n",
    "    \n",
    "\n",
    "# 아래 주석을 해제하고 결과를 확인해보세요.\n",
    "print(get_user_to_num_titles(user_to_titles))"
   ]
  },
  {
   "cell_type": "markdown",
   "metadata": {},
   "source": [
    "## JSON file"
   ]
  },
  {
   "cell_type": "code",
   "execution_count": 3,
   "metadata": {},
   "outputs": [
    {
     "name": "stdout",
     "output_type": "stream",
     "text": [
      "원래 데이터: {'Iron Man': 31928, 'Iron Man 2': 15293, 'Dark Knigh': 42107, 'Man in Black': 20113}\n",
      "수정된 데이터: {'Iron Man': 31928, 'Iron Man 2': 15293, 'Dark Knigh': 42107, 'Man in Black': 20113, 'Dark Knight': 39217}\n"
     ]
    }
   ],
   "source": [
    "# json 패키지를 임포트합니다.\n",
    "import json\n",
    "\n",
    "\n",
    "#JSON 파일을 읽고 문자열을 딕셔너리로 변환합니다.\n",
    "def create_dict(filename):\n",
    "    with open(filename) as file:\n",
    "        json_string = file.read()\n",
    "        \n",
    "        # 함수를 완성하세요.\n",
    "        return json.loads(json_string)\n",
    "\n",
    "\n",
    "\n",
    "#JSON 파일을 읽고 딕셔너리를 JSON 형태의 문자열로 변환합니다.\n",
    "def create_json(dictionary, filename):\n",
    "    with open(filename, 'w') as file:\n",
    "    \n",
    "        # 함수를 완성하세요.\n",
    "        json_string = json.dumps(dictionary)\n",
    "        file.write(json_string)\n",
    "        \n",
    "        \n",
    "        \n",
    "# 아래 주석을 해제하고 결과를 확인해보세요.  \n",
    "src = 'c:/Toy_projects/data/netflix.json'\n",
    "dst = 'c:/Toy_projects/data/new_netflix.json'\n",
    "\n",
    "netflix_dict = create_dict(src)\n",
    "print('원래 데이터: ' + str(netflix_dict))\n",
    "\n",
    "netflix_dict['Dark Knight'] = 39217\n",
    "create_json(netflix_dict, dst)\n",
    "updated_dict = create_dict(dst)\n",
    "print('수정된 데이터: ' + str(updated_dict))"
   ]
  },
  {
   "cell_type": "markdown",
   "metadata": {},
   "source": [
    "## Data's Set"
   ]
  },
  {
   "cell_type": "code",
   "execution_count": 4,
   "metadata": {},
   "outputs": [],
   "source": [
    "# 정수 3과 5를 원소로 갖는 새로운 집합을 생성합니다.\n",
    "my_set = {3, 5}\n",
    "\n",
    "\n",
    "submit1 = my_set.copy()\n",
    "\n",
    "# 정수 7을 my_set에 추가합니다.\n",
    "my_set.add(7)\n",
    "\n",
    "\n",
    "submit2 = my_set.copy()\n",
    "\n",
    "# new_numbers 리스트의 원소를 my_set에 추가합니다.\n",
    "new_numbers = [1, 2, 3, 4, 5]\n",
    "my_set.update(new_numbers)\n",
    "\n",
    "\n",
    "submit3 = my_set.copy()\n",
    "\n",
    "# my_set에서 짝수를 모두 제거합니다.\n",
    "my_set = {num for num in my_set if num % 2 != 0}\n",
    "\n",
    "# [num + 1 for num in numbers]\n",
    "submit4 = my_set.copy()"
   ]
  },
  {
   "cell_type": "markdown",
   "metadata": {},
   "source": [
    "## Intersection & Union"
   ]
  },
  {
   "cell_type": "code",
   "execution_count": null,
   "metadata": {},
   "outputs": [],
   "source": [
    "# 각 영화 별 시청자 리스트를 임포트합니다.\n",
    "from viewers import dark_knight, iron_man\n",
    "\n",
    "dark_knight_set = set(dark_knight)\n",
    "iron_man_set = set(iron_man)\n",
    "\n",
    "# 두 작품을 모두 시청한 사람의 수\n",
    "both = len(dark_knight_set & iron_man_set)\n",
    "\n",
    "# 두 작품 중 최소 하나를 시청한 사람의 수\n",
    "either = len(dark_knight_set | iron_man_set)\n",
    "\n",
    "# 다크나이트만 시청한 사람의 수\n",
    "dark_knight_only = len(dark_knight_set - iron_man_set)\n",
    "\n",
    "# 아이언맨만 시청한 사람의 수\n",
    "iron_man_only = len(iron_man_set - dark_knight_set)\n",
    "\n",
    "\n",
    "# 아래 주석을 해제하고 실행 결과를 확인해보세요.\n",
    "print(\"두 작품 모두 시청: {}명\".format(both))\n",
    "print(\"하나 이상 시청: {}명\".format(either))\n",
    "print(\"다크나이트만 시청: {}명\".format(dark_knight_only))\n",
    "print(\"아이언맨만 시청: {}명\".format(iron_man_only))"
   ]
  },
  {
   "cell_type": "markdown",
   "metadata": {},
   "source": [
    "## Chart"
   ]
  },
  {
   "cell_type": "code",
   "execution_count": 5,
   "metadata": {},
   "outputs": [
    {
     "data": {
      "image/png": "[encoded data removed]",
      "text/plain": [
       "<Figure size 432x288 with 1 Axes>"
      ]
     },
     "metadata": {
      "needs_background": "light"
     },
     "output_type": "display_data"
    }
   ],
   "source": [
    "import matplotlib.pyplot as plt\n",
    "import matplotlib.font_manager as fm\n",
    "\n",
    "\n",
    "# 날짜 별 온도 데이터를 세팅합니다.\n",
    "dates = [\"1월 {}일\".format(day) for day in range(1, 32)]\n",
    "temperatures = list(range(1, 32))\n",
    "\n",
    "# 막대 그래프의 막대 위치를 결정하는 pos를 선언합니다.\n",
    "pos = range(len(dates))\n",
    "\n",
    "# 한국어를 보기 좋게 표시할 수 있도록 폰트를 설정합니다.\n",
    "font = fm.FontProperties(fname='c:/Toy_projects/fonts/NanumBarunGothic.ttf')\n",
    "\n",
    "# 막대의 높이가 빈도의 값이 되도록 설정합니다.\n",
    "plt.bar(pos, temperatures, align='center')\n",
    "\n",
    "# 각 막대에 해당되는 단어를 입력합니다.\n",
    "plt.xticks(pos, dates, rotation='vertical', fontproperties=font)\n",
    "\n",
    "# 그래프의 제목을 설정합니다.\n",
    "plt.title('1월 중 기온 변화', fontproperties=font)\n",
    "\n",
    "# Y축에 설명을 추가합니다.\n",
    "plt.ylabel('온도', fontproperties=font)\n",
    "\n",
    "# 단어가 잘리지 않도록 여백을 조정합니다.\n",
    "plt.tight_layout()\n",
    "\n",
    "# 그래프를 표시합니다.\n",
    "plt.savefig('graph.png')\n"
   ]
  }
 ],
 "metadata": {
  "kernelspec": {
   "display_name": "Python 3",
   "language": "python",
   "name": "python3"
  },
  "language_info": {
   "codemirror_mode": {
    "name": "ipython",
    "version": 3
   },
   "file_extension": ".py",
   "mimetype": "text/x-python",
   "name": "python",
   "nbconvert_exporter": "python",
   "pygments_lexer": "ipython3",
   "version": "3.7.6"
  }
 },
 "nbformat": 4,
 "nbformat_minor": 4
}
