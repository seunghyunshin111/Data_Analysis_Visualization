{
 "cells": [
  {
   "cell_type": "code",
   "execution_count": 5,
   "metadata": {},
   "outputs": [
    {
     "name": "stdout",
     "output_type": "stream",
     "text": [
      "{\n",
      "\t\"Iron Man\": 31928,\n",
      "\t\"Iron Man 2\": 15293,\n",
      "\t\"Dark Knigh\": 42107,\n",
      "\t\"Man in Black\": 20113\n",
      "}\n"
     ]
    }
   ],
   "source": [
    "import json\n",
    "from collections import OrderedDict\n",
    " \n",
    "# Ready for data\n",
    "group_data = OrderedDict()\n",
    "albums = OrderedDict()\n",
    " \n",
    "group_data[\"Iron Man\"] = 31928\n",
    "group_data[\"Iron Man 2\"] = 15293\n",
    "group_data[\"Dark Knigh\"] = 42107\n",
    "group_data[\"Man in Black\"] = 20113\n",
    "\n",
    " \n",
    "# Print JSON\n",
    "print(json.dumps(group_data, ensure_ascii=False, indent=\"\\t\") )"
   ]
  },
  {
   "cell_type": "code",
   "execution_count": 7,
   "metadata": {},
   "outputs": [],
   "source": [
    "# Write JSON\n",
    "with open('netflix.json', 'w', encoding=\"utf-8\") as make_file:\n",
    "    json.dump(group_data, make_file, ensure_ascii=False, indent=\"\\t\")"
   ]
  }
 ],
 "metadata": {
  "kernelspec": {
   "display_name": "Python 3",
   "language": "python",
   "name": "python3"
  },
  "language_info": {
   "codemirror_mode": {
    "name": "ipython",
    "version": 3
   },
   "file_extension": ".py",
   "mimetype": "text/x-python",
   "name": "python",
   "nbconvert_exporter": "python",
   "pygments_lexer": "ipython3",
   "version": "3.7.6"
  }
 },
 "nbformat": 4,
 "nbformat_minor": 4
}
