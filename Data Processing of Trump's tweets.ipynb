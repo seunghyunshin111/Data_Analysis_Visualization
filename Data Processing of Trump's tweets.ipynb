{
 "cells": [
  {
   "cell_type": "markdown",
   "metadata": {},
   "source": [
    "# Data Processing of Trump's tweets"
   ]
  },
  {
   "cell_type": "code",
   "execution_count": 1,
   "metadata": {},
   "outputs": [
    {
     "name": "stdout",
     "output_type": "stream",
     "text": [
      "2018년 1월 1일: Will be leaving Florida for Washington (D.C.) today at 4:00 P.M. Much work to be done, but it will be a great New Year!\n",
      "2018년 1월 2일: Companies are giving big bonuses to their workers because of the Tax Cut Bill. Really great!\n",
      "2018년 1월 3일: MAKE AMERICA GREAT AGAIN!\n"
     ]
    }
   ],
   "source": [
    "# 트럼프 대통령의 1월 1~3일 트윗을 각각 리스트의 원소로 저장합니다.\n",
    "trump_tweets = [\n",
    "    'Will be leaving Florida for Washington (D.C.) today at 4:00 P.M. Much work to be done, but it will be a great New Year!',\n",
    "    'Companies are giving big bonuses to their workers because of the Tax Cut Bill. Really great!',\n",
    "    'MAKE AMERICA GREAT AGAIN!'\n",
    "]\n",
    "\n",
    "def date_tweet(tweet):\n",
    "    # index에 0~2을 차례대로 저장하여 반복문을 실행합니다.\n",
    "    for index in range(len(tweet)):\n",
    "        print('2018년 1월 ' + str(index+1) + '일: ' + tweet[index])\n",
    "\n",
    "\n",
    "# 실행 결과를 확인하기 위한 코드입니다.\n",
    "date_tweet(trump_tweets)"
   ]
  },
  {
   "cell_type": "code",
   "execution_count": 2,
   "metadata": {},
   "outputs": [
    {
     "name": "stdout",
     "output_type": "stream",
     "text": [
      "korea\n"
     ]
    }
   ],
   "source": [
    "# 트럼프 대통령 트윗을 공백 기준으로 분리한 리스트입니다.\n",
    "trump_tweets = ['thank', 'you', 'to', 'president', 'moon', 'of', 'south', 'korea', 'for', 'the', 'beautiful', 'welcoming', 'ceremony', 'it', 'will', 'always', 'be', 'remembered']\n",
    "\n",
    "def print_korea(text):\n",
    "    for word in text:\n",
    "        if word[0] == 'k':\n",
    "            print(word)\n",
    "    \n",
    "print_korea(trump_tweets)\n"
   ]
  },
  {
   "cell_type": "code",
   "execution_count": 3,
   "metadata": {},
   "outputs": [
    {
     "name": "stdout",
     "output_type": "stream",
     "text": [
      "korea\n"
     ]
    }
   ],
   "source": [
    "trump_tweets = ['thank', 'you', 'to', 'president', 'moon', 'of', 'south', 'korea', 'for', 'the', 'beautiful', 'welcoming', 'ceremony', 'it', 'will', 'always', 'be', 'remembered']\n",
    "\n",
    "def print_korea(text):\n",
    "    for word in text:\n",
    "        if word.startswith('k'):\n",
    "            print(word)\n",
    "\n",
    "print_korea(trump_tweets)"
   ]
  },
  {
   "cell_type": "code",
   "execution_count": 5,
   "metadata": {},
   "outputs": [
    {
     "name": "stdout",
     "output_type": "stream",
     "text": [
      "['thank', 'you', 'to', 'president', 'moon', 'of', 'south', 'korea', 'for', 'the', 'beautiful', 'welcoming', 'ceremony', 'it', 'will', 'always', 'be', 'remembered']\n"
     ]
    }
   ],
   "source": [
    "trump_tweets = \"thank you to president moon of south korea for the beautiful welcoming ceremony it will always be remembered\"\n",
    "\n",
    "def break_into_words(text):\n",
    "    words = text.split()\n",
    "    return words\n",
    "\n",
    "print(break_into_words(trump_tweets))"
   ]
  },
  {
   "cell_type": "code",
   "execution_count": 6,
   "metadata": {},
   "outputs": [
    {
     "name": "stdout",
     "output_type": "stream",
     "text": [
      "['back', 'back', 'bigger', 'better', 'before']\n"
     ]
    }
   ],
   "source": [
    "# 트럼프 대통령 트윗을 공백 기준으로 분리한 리스트입니다.\n",
    "trump_tweets = ['america', 'is', 'back', 'and', 'we', 'are', 'coming', 'back', 'bigger', 'and', 'better', 'and', 'stronger', 'than', 'ever', 'before']\n",
    "\n",
    "def make_new_list(text):\n",
    "    new_list = []\n",
    "    \n",
    "    for word in text:\n",
    "        if word.startswith('b'):\n",
    "            new_list.append(word)\n",
    "    \n",
    "    \n",
    "    return new_list\n",
    "\n",
    "\n",
    "new_list = make_new_list(trump_tweets)\n",
    "print(new_list)"
   ]
  },
  {
   "cell_type": "code",
   "execution_count": 7,
   "metadata": {},
   "outputs": [
    {
     "name": "stdout",
     "output_type": "stream",
     "text": [
      "fake news - a total political witch hunt!\n",
      "any negative polls are fake news, just like the cnn, abc, nbc polls in the election.\n",
      "the fake news media is officially out of control.\n"
     ]
    }
   ],
   "source": [
    "# 트럼프 대통령의 트윗 세개로 구성된 리스트입니다.\n",
    "trump_tweets = [\n",
    "    \"FAKE NEWS - A TOTAL POLITICAL WITCH HUNT!\",\n",
    "    \"Any negative polls are fake news, just like the CNN, ABC, NBC polls in the election.\",\n",
    "    \"The Fake News media is officially out of control.\",\n",
    "]\n",
    " \n",
    "def lowercase_all_characters(text):\n",
    "    processed_text = []\n",
    "    for sentence in text:\n",
    "        processed_text.append(sentence.lower())\n",
    "    \n",
    "    return processed_text\n",
    "\n",
    "\n",
    "print('\\n'.join(lowercase_all_characters(trump_tweets)))"
   ]
  },
  {
   "cell_type": "code",
   "execution_count": 8,
   "metadata": {},
   "outputs": [
    {
     "name": "stdout",
     "output_type": "stream",
     "text": [
      "i hope everyone is having a great christmas then tomorrow it’s back to work in order to make america great again.\n",
      "7 of 10 americans prefer merry christmas over happy holidays.\n",
      "merry christmas\n"
     ]
    }
   ],
   "source": [
    "# 트럼프 대통령의 트윗 세개로 구성된 리스트입니다.\n",
    "trump_tweets = [\n",
    "    \"i hope everyone is having a great christmas, then tomorrow it’s back to work in order to make america great again.\",\n",
    "    \"7 of 10 americans prefer 'merry christmas' over 'happy holidays'.\",\n",
    "    \"merry christmas!!!\",\n",
    "]\n",
    "\n",
    "def remove_special_characters(text):\n",
    "    processed_text = []\n",
    "    for sentence in text:\n",
    "        processed_text.append(sentence.replace(',', '').replace(\"'\", \"\").replace(\"!\", \"\"))\n",
    "    \n",
    "    return processed_text\n",
    "\n",
    "\n",
    "print('\\n'.join(remove_special_characters(trump_tweets)))"
   ]
  }
 ],
 "metadata": {
  "kernelspec": {
   "display_name": "Python 3",
   "language": "python",
   "name": "python3"
  },
  "language_info": {
   "codemirror_mode": {
    "name": "ipython",
    "version": 3
   },
   "file_extension": ".py",
   "mimetype": "text/x-python",
   "name": "python",
   "nbconvert_exporter": "python",
   "pygments_lexer": "ipython3",
   "version": "3.7.6"
  }
 },
 "nbformat": 4,
 "nbformat_minor": 4
}
