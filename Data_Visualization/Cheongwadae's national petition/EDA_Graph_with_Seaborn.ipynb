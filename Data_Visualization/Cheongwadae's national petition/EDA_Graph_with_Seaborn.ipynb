{
  "nbformat": 4,
  "nbformat_minor": 0,
  "metadata": {
    "colab": {
      "name": "Graph with Seaborn.ipynb",
      "provenance": [],
      "collapsed_sections": []
    },
    "kernelspec": {
      "name": "python3",
      "display_name": "Python 3"
    }
  },
  "cells": [
    {
      "cell_type": "code",
      "metadata": {
        "id": "5b3AR_XubOMs",
        "colab_type": "code",
        "outputId": "8c205c4b-08c6-4d38-d784-77149dae1da7",
        "colab": {
          "base_uri": "https://localhost:8080/",
          "height": 74
        }
      },
      "source": [
        "import pandas as pd\n",
        "import matplotlib.pyplot as plt\n",
        "import seaborn as sns"
      ],
      "execution_count": 2,
      "outputs": [
        {
          "output_type": "stream",
          "text": [
            "/usr/local/lib/python3.6/dist-packages/statsmodels/tools/_testing.py:19: FutureWarning: pandas.util.testing is deprecated. Use the functions in the public API at pandas.testing instead.\n",
            "  import pandas.util.testing as tm\n"
          ],
          "name": "stderr"
        }
      ]
    },
    {
      "cell_type": "code",
      "metadata": {
        "id": "0pqMjNxydJXU",
        "colab_type": "code",
        "colab": {}
      },
      "source": [
        "df = pd.read_csv('https://s3.ap-northeast-2.amazonaws.com/data10902/petition/petition.csv', parse_dates=['start', 'end'])"
      ],
      "execution_count": 0,
      "outputs": []
    },
    {
      "cell_type": "code",
      "metadata": {
        "id": "dDAjzcrZgcGo",
        "colab_type": "code",
        "outputId": "e6a1577b-b94c-40bb-ef9e-4d83b864869d",
        "colab": {
          "base_uri": "https://localhost:8080/",
          "height": 285
        }
      },
      "source": [
        "df.head()"
      ],
      "execution_count": 16,
      "outputs": [
        {
          "output_type": "execute_result",
          "data": {
            "text/html": [
              "<div>\n",
              "<style scoped>\n",
              "    .dataframe tbody tr th:only-of-type {\n",
              "        vertical-align: middle;\n",
              "    }\n",
              "\n",
              "    .dataframe tbody tr th {\n",
              "        vertical-align: top;\n",
              "    }\n",
              "\n",
              "    .dataframe thead th {\n",
              "        text-align: right;\n",
              "    }\n",
              "</style>\n",
              "<table border=\"1\" class=\"dataframe\">\n",
              "  <thead>\n",
              "    <tr style=\"text-align: right;\">\n",
              "      <th></th>\n",
              "      <th>article_id</th>\n",
              "      <th>start</th>\n",
              "      <th>end</th>\n",
              "      <th>answered</th>\n",
              "      <th>votes</th>\n",
              "      <th>category</th>\n",
              "      <th>title</th>\n",
              "      <th>content</th>\n",
              "    </tr>\n",
              "  </thead>\n",
              "  <tbody>\n",
              "    <tr>\n",
              "      <th>0</th>\n",
              "      <td>21</td>\n",
              "      <td>2017-08-19</td>\n",
              "      <td>2017-11-17</td>\n",
              "      <td>0</td>\n",
              "      <td>9</td>\n",
              "      <td>안전/환경</td>\n",
              "      <td>스텔라 데이지호에 대한 제안입니다.</td>\n",
              "      <td>스텔라 데이지호에 대한 제안입니다.\\n3월31일 스텔라 데이지호가 침몰하고 5달째가...</td>\n",
              "    </tr>\n",
              "    <tr>\n",
              "      <th>1</th>\n",
              "      <td>22</td>\n",
              "      <td>2017-08-19</td>\n",
              "      <td>2017-11-17</td>\n",
              "      <td>0</td>\n",
              "      <td>17</td>\n",
              "      <td>기타</td>\n",
              "      <td>비리제보처를 만들어주세요.</td>\n",
              "      <td>현 정부에 국민들이 가장 원하는 것은 부패척결입니다.  우리 사회에 각종 비리들이 ...</td>\n",
              "    </tr>\n",
              "    <tr>\n",
              "      <th>2</th>\n",
              "      <td>23</td>\n",
              "      <td>2017-08-19</td>\n",
              "      <td>2017-09-03</td>\n",
              "      <td>0</td>\n",
              "      <td>0</td>\n",
              "      <td>미래</td>\n",
              "      <td>제2의 개성공단</td>\n",
              "      <td>만일 하시는 대통령님 및 각 부처 장관님,주무관님들 안녕하세요!!\\n전남 목포에서 ...</td>\n",
              "    </tr>\n",
              "    <tr>\n",
              "      <th>3</th>\n",
              "      <td>24</td>\n",
              "      <td>2017-08-19</td>\n",
              "      <td>2017-08-26</td>\n",
              "      <td>0</td>\n",
              "      <td>53</td>\n",
              "      <td>일자리</td>\n",
              "      <td>공공기관 무조건적인 정규직전환을 반대합니다.</td>\n",
              "      <td>현정부에서 정규직 일자리를 늘리는 것에 찬성합니다. 그런데 공공기관 비정규직들은 인...</td>\n",
              "    </tr>\n",
              "    <tr>\n",
              "      <th>4</th>\n",
              "      <td>25</td>\n",
              "      <td>2017-08-19</td>\n",
              "      <td>2017-09-03</td>\n",
              "      <td>0</td>\n",
              "      <td>0</td>\n",
              "      <td>미래</td>\n",
              "      <td>제2의 개성공단</td>\n",
              "      <td>만일 하시는 대통령님 및 각 부처 장관님,주무관님들 안녕하세요!!\\n전남 목포에서 ...</td>\n",
              "    </tr>\n",
              "  </tbody>\n",
              "</table>\n",
              "</div>"
            ],
            "text/plain": [
              "   article_id  ...                                            content\n",
              "0          21  ...  스텔라 데이지호에 대한 제안입니다.\\n3월31일 스텔라 데이지호가 침몰하고 5달째가...\n",
              "1          22  ...  현 정부에 국민들이 가장 원하는 것은 부패척결입니다.  우리 사회에 각종 비리들이 ...\n",
              "2          23  ...  만일 하시는 대통령님 및 각 부처 장관님,주무관님들 안녕하세요!!\\n전남 목포에서 ...\n",
              "3          24  ...  현정부에서 정규직 일자리를 늘리는 것에 찬성합니다. 그런데 공공기관 비정규직들은 인...\n",
              "4          25  ...  만일 하시는 대통령님 및 각 부처 장관님,주무관님들 안녕하세요!!\\n전남 목포에서 ...\n",
              "\n",
              "[5 rows x 8 columns]"
            ]
          },
          "metadata": {
            "tags": []
          },
          "execution_count": 16
        }
      ]
    },
    {
      "cell_type": "code",
      "metadata": {
        "id": "CjY5hKSKsGWe",
        "colab_type": "code",
        "outputId": "073aeeab-376f-44ee-d735-b18c827fd96d",
        "colab": {
          "base_uri": "https://localhost:8080/",
          "height": 666
        }
      },
      "source": [
        "# 2018년 이후\n",
        "data = df[df['start']>='2018-01-01T00:00:00.000000000']\n",
        "data"
      ],
      "execution_count": 25,
      "outputs": [
        {
          "output_type": "execute_result",
          "data": {
            "text/html": [
              "<div>\n",
              "<style scoped>\n",
              "    .dataframe tbody tr th:only-of-type {\n",
              "        vertical-align: middle;\n",
              "    }\n",
              "\n",
              "    .dataframe tbody tr th {\n",
              "        vertical-align: top;\n",
              "    }\n",
              "\n",
              "    .dataframe thead th {\n",
              "        text-align: right;\n",
              "    }\n",
              "</style>\n",
              "<table border=\"1\" class=\"dataframe\">\n",
              "  <thead>\n",
              "    <tr style=\"text-align: right;\">\n",
              "      <th></th>\n",
              "      <th>article_id</th>\n",
              "      <th>start</th>\n",
              "      <th>end</th>\n",
              "      <th>answered</th>\n",
              "      <th>votes</th>\n",
              "      <th>category</th>\n",
              "      <th>title</th>\n",
              "      <th>content</th>\n",
              "    </tr>\n",
              "  </thead>\n",
              "  <tbody>\n",
              "    <tr>\n",
              "      <th>72119</th>\n",
              "      <td>77785</td>\n",
              "      <td>2018-01-01</td>\n",
              "      <td>2018-01-31</td>\n",
              "      <td>0</td>\n",
              "      <td>6</td>\n",
              "      <td>행정</td>\n",
              "      <td>아...이런데서 이상한 글이 올라오네요...</td>\n",
              "      <td>이런 국민청원하는 게시판에서 뭐 섹스,희주야'''''이런 이상한 글 올라오는데 여기...</td>\n",
              "    </tr>\n",
              "    <tr>\n",
              "      <th>72120</th>\n",
              "      <td>77786</td>\n",
              "      <td>2018-01-01</td>\n",
              "      <td>2018-01-31</td>\n",
              "      <td>0</td>\n",
              "      <td>1</td>\n",
              "      <td>기타</td>\n",
              "      <td>현재 사람들 사이에서 유행하는 게임 \"배틀 그라운드\" 에 대한 제재를 가하려 합니다.</td>\n",
              "      <td>\"배틀 그라운드\"는 현재 세계적으로나 우리나라 에서나 매우 흥행 하는 게임입니다. ...</td>\n",
              "    </tr>\n",
              "    <tr>\n",
              "      <th>72121</th>\n",
              "      <td>77787</td>\n",
              "      <td>2018-01-01</td>\n",
              "      <td>2018-01-31</td>\n",
              "      <td>0</td>\n",
              "      <td>0</td>\n",
              "      <td>정치개혁</td>\n",
              "      <td>양심수 석방 국가보안법 철폐</td>\n",
              "      <td>적폐청산의 시금석\\n양심수들의 특별사면 배제\\n문재인 정부를 규탄한다.\\n지난 12...</td>\n",
              "    </tr>\n",
              "    <tr>\n",
              "      <th>72122</th>\n",
              "      <td>77788</td>\n",
              "      <td>2018-01-01</td>\n",
              "      <td>2018-01-31</td>\n",
              "      <td>0</td>\n",
              "      <td>3</td>\n",
              "      <td>인권/성평등</td>\n",
              "      <td>민주화유공자들에 대한 국가유공자 인정 요청</td>\n",
              "      <td>안녕하세요.\\n살벌한 독재시대를 떠나, 대한민국 민주화를 이룩하신 수많은 열사들이,...</td>\n",
              "    </tr>\n",
              "    <tr>\n",
              "      <th>72123</th>\n",
              "      <td>77789</td>\n",
              "      <td>2018-01-01</td>\n",
              "      <td>2018-01-31</td>\n",
              "      <td>0</td>\n",
              "      <td>0</td>\n",
              "      <td>외교/통일/국방</td>\n",
              "      <td>UAE 관련</td>\n",
              "      <td>Uae 괸련한 야당 질의와 관련하여 기본적으로 유시민 작가의 말씀에 동의하여 국익에...</td>\n",
              "    </tr>\n",
              "    <tr>\n",
              "      <th>...</th>\n",
              "      <td>...</td>\n",
              "      <td>...</td>\n",
              "      <td>...</td>\n",
              "      <td>...</td>\n",
              "      <td>...</td>\n",
              "      <td>...</td>\n",
              "      <td>...</td>\n",
              "      <td>...</td>\n",
              "    </tr>\n",
              "    <tr>\n",
              "      <th>395542</th>\n",
              "      <td>517117</td>\n",
              "      <td>2019-02-04</td>\n",
              "      <td>2019-03-06</td>\n",
              "      <td>0</td>\n",
              "      <td>3</td>\n",
              "      <td>보건복지</td>\n",
              "      <td>명절연휴 고속도로 무료반대</td>\n",
              "      <td>명절고속도로 무료보단 대다수의 서민들이 이용하는 대중교통 무료와 명절기간 증차로 했...</td>\n",
              "    </tr>\n",
              "    <tr>\n",
              "      <th>395543</th>\n",
              "      <td>517119</td>\n",
              "      <td>2019-02-04</td>\n",
              "      <td>2019-03-06</td>\n",
              "      <td>0</td>\n",
              "      <td>23</td>\n",
              "      <td>보건복지</td>\n",
              "      <td>광주사태 가짜 유공자들 정수기로 걸려내야함</td>\n",
              "      <td>광주사태 유공자들 차고 넘치는데 이래 많은 유공자들 그냥놓아두면 재앙이다.\\n김대중...</td>\n",
              "    </tr>\n",
              "    <tr>\n",
              "      <th>395544</th>\n",
              "      <td>517120</td>\n",
              "      <td>2019-02-04</td>\n",
              "      <td>2019-03-06</td>\n",
              "      <td>0</td>\n",
              "      <td>0</td>\n",
              "      <td>안전/환경</td>\n",
              "      <td>환경문제</td>\n",
              "      <td>명절이면 후로 제일문제는 쓰레기 문제 입니다.\\n제일문제는 선물세트와 농산물세트 입...</td>\n",
              "    </tr>\n",
              "    <tr>\n",
              "      <th>395545</th>\n",
              "      <td>517121</td>\n",
              "      <td>2019-02-04</td>\n",
              "      <td>2019-03-06</td>\n",
              "      <td>0</td>\n",
              "      <td>20</td>\n",
              "      <td>정치개혁</td>\n",
              "      <td>청화대,더불어민주당, 당장 답하라,,,,,,</td>\n",
              "      <td>좌파 더불어민주당, 좌파 정권 청화대는 선한 국민들을 더는 기망하지 말고 담장 답하...</td>\n",
              "    </tr>\n",
              "    <tr>\n",
              "      <th>395546</th>\n",
              "      <td>517122</td>\n",
              "      <td>2019-02-04</td>\n",
              "      <td>2019-03-06</td>\n",
              "      <td>0</td>\n",
              "      <td>16</td>\n",
              "      <td>인권/성평등</td>\n",
              "      <td>여성부 폐지</td>\n",
              "      <td>국민들이 원합니다\\n폐지 좀 시키세요;</td>\n",
              "    </tr>\n",
              "  </tbody>\n",
              "</table>\n",
              "<p>323428 rows × 8 columns</p>\n",
              "</div>"
            ],
            "text/plain": [
              "        article_id  ...                                            content\n",
              "72119        77785  ...  이런 국민청원하는 게시판에서 뭐 섹스,희주야'''''이런 이상한 글 올라오는데 여기...\n",
              "72120        77786  ...  \"배틀 그라운드\"는 현재 세계적으로나 우리나라 에서나 매우 흥행 하는 게임입니다. ...\n",
              "72121        77787  ...  적폐청산의 시금석\\n양심수들의 특별사면 배제\\n문재인 정부를 규탄한다.\\n지난 12...\n",
              "72122        77788  ...  안녕하세요.\\n살벌한 독재시대를 떠나, 대한민국 민주화를 이룩하신 수많은 열사들이,...\n",
              "72123        77789  ...  Uae 괸련한 야당 질의와 관련하여 기본적으로 유시민 작가의 말씀에 동의하여 국익에...\n",
              "...            ...  ...                                                ...\n",
              "395542      517117  ...  명절고속도로 무료보단 대다수의 서민들이 이용하는 대중교통 무료와 명절기간 증차로 했...\n",
              "395543      517119  ...  광주사태 유공자들 차고 넘치는데 이래 많은 유공자들 그냥놓아두면 재앙이다.\\n김대중...\n",
              "395544      517120  ...  명절이면 후로 제일문제는 쓰레기 문제 입니다.\\n제일문제는 선물세트와 농산물세트 입...\n",
              "395545      517121  ...  좌파 더불어민주당, 좌파 정권 청화대는 선한 국민들을 더는 기망하지 말고 담장 답하...\n",
              "395546      517122  ...                              국민들이 원합니다\\n폐지 좀 시키세요;\n",
              "\n",
              "[323428 rows x 8 columns]"
            ]
          },
          "metadata": {
            "tags": []
          },
          "execution_count": 25
        }
      ]
    },
    {
      "cell_type": "code",
      "metadata": {
        "id": "mPmlKct54PNv",
        "colab_type": "code",
        "outputId": "e097c54e-d035-466b-9596-3abac3ed20bc",
        "colab": {
          "base_uri": "https://localhost:8080/",
          "height": 199
        }
      },
      "source": [
        "ori_category = list(data.category.value_counts().index)\n",
        "new_category = ['politics', 'etc', 'human_rights', 'traffic', 'safety/environment', \\\n",
        "               'diplomacy', 'education', 'welfare', 'jobs', 'administration', \\\n",
        "               'arts/press', 'future', 'economy', 'development', 'pets', \\\n",
        "               'birth_rate/aging', 'agriculture']\n",
        "for o, n in zip(ori_category, new_category):\n",
        "  data.category[data.category == o] = n"
      ],
      "execution_count": 26,
      "outputs": [
        {
          "output_type": "stream",
          "text": [
            "/usr/local/lib/python3.6/dist-packages/ipykernel_launcher.py:4: SettingWithCopyWarning: \n",
            "A value is trying to be set on a copy of a slice from a DataFrame\n",
            "\n",
            "See the caveats in the documentation: https://pandas.pydata.org/pandas-docs/stable/user_guide/indexing.html#returning-a-view-versus-a-copy\n",
            "  after removing the cwd from sys.path.\n",
            "/usr/local/lib/python3.6/dist-packages/pandas/core/generic.py:8765: SettingWithCopyWarning: \n",
            "A value is trying to be set on a copy of a slice from a DataFrame\n",
            "\n",
            "See the caveats in the documentation: https://pandas.pydata.org/pandas-docs/stable/user_guide/indexing.html#returning-a-view-versus-a-copy\n",
            "  self._update_inplace(new_data)\n"
          ],
          "name": "stderr"
        }
      ]
    },
    {
      "cell_type": "markdown",
      "metadata": {
        "id": "TQqre_XGKMJv",
        "colab_type": "text"
      },
      "source": [
        "# 가장 많은 Votes를 받은 Top5 DataFrame"
      ]
    },
    {
      "cell_type": "code",
      "metadata": {
        "id": "RUR_s4PbJFmm",
        "colab_type": "code",
        "outputId": "1f69304b-0d88-4db6-85fc-775c732f4bbb",
        "colab": {
          "base_uri": "https://localhost:8080/",
          "height": 371
        }
      },
      "source": [
        "# 가장 많은 Votes를 받은 Top5 DataFrame\n",
        "data = data.sort_values([\"votes\"], ascending=[False])\n",
        "data.head(5)"
      ],
      "execution_count": 19,
      "outputs": [
        {
          "output_type": "execute_result",
          "data": {
            "text/html": [
              "<div>\n",
              "<style scoped>\n",
              "    .dataframe tbody tr th:only-of-type {\n",
              "        vertical-align: middle;\n",
              "    }\n",
              "\n",
              "    .dataframe tbody tr th {\n",
              "        vertical-align: top;\n",
              "    }\n",
              "\n",
              "    .dataframe thead th {\n",
              "        text-align: right;\n",
              "    }\n",
              "</style>\n",
              "<table border=\"1\" class=\"dataframe\">\n",
              "  <thead>\n",
              "    <tr style=\"text-align: right;\">\n",
              "      <th></th>\n",
              "      <th>article_id</th>\n",
              "      <th>start</th>\n",
              "      <th>end</th>\n",
              "      <th>answered</th>\n",
              "      <th>votes</th>\n",
              "      <th>category</th>\n",
              "      <th>title</th>\n",
              "      <th>content</th>\n",
              "    </tr>\n",
              "  </thead>\n",
              "  <tbody>\n",
              "    <tr>\n",
              "      <th>313314</th>\n",
              "      <td>408609</td>\n",
              "      <td>2018-10-17</td>\n",
              "      <td>2018-11-16</td>\n",
              "      <td>0</td>\n",
              "      <td>1192049</td>\n",
              "      <td>safety/environment</td>\n",
              "      <td>강서구 피시방 살인 사건. 또 심신미약 피의자입니다.</td>\n",
              "      <td>2018년 10월 14일 엊그제 일어난 강서구 피시방 살인사건에 대한 청원입니다.\\...</td>\n",
              "    </tr>\n",
              "    <tr>\n",
              "      <th>208597</th>\n",
              "      <td>269548</td>\n",
              "      <td>2018-06-13</td>\n",
              "      <td>2018-07-13</td>\n",
              "      <td>0</td>\n",
              "      <td>714875</td>\n",
              "      <td>diplomacy</td>\n",
              "      <td>제주도 불법 난민 신청 문제에 따른 난민법, 무사증 입국, 난민신청허가 폐지/개헌 ...</td>\n",
              "      <td>2012년 난민법 제정으로 인해 외국인은 한달 무비자로 입국할 수 있으나 난민신청자...</td>\n",
              "    </tr>\n",
              "    <tr>\n",
              "      <th>118970</th>\n",
              "      <td>142600</td>\n",
              "      <td>2018-02-19</td>\n",
              "      <td>2018-03-21</td>\n",
              "      <td>1</td>\n",
              "      <td>614127</td>\n",
              "      <td>arts/press</td>\n",
              "      <td>김보름, 박지우 선수의 자격박탈과 적폐 빙상연맹의 엄중 처벌을 청원합니다</td>\n",
              "      <td>오늘 여자 단체전 팀추월에서 김보름, 박지우 선수는 팀전인데도 불구하고 개인의 영달...</td>\n",
              "    </tr>\n",
              "    <tr>\n",
              "      <th>183791</th>\n",
              "      <td>230552</td>\n",
              "      <td>2018-05-11</td>\n",
              "      <td>2018-06-10</td>\n",
              "      <td>1</td>\n",
              "      <td>419006</td>\n",
              "      <td>human_rights</td>\n",
              "      <td>여성도 대한민국 국민입니다. 성별 관계없는 국가의 보호를 요청합니다.</td>\n",
              "      <td>최근 홍대 누드크로키 모델의 불법촬영 사건이 있었습니다.\\n사건은 굉장히 빠르게 처...</td>\n",
              "    </tr>\n",
              "    <tr>\n",
              "      <th>327873</th>\n",
              "      <td>426834</td>\n",
              "      <td>2018-10-31</td>\n",
              "      <td>2018-11-30</td>\n",
              "      <td>0</td>\n",
              "      <td>416093</td>\n",
              "      <td>human_rights</td>\n",
              "      <td>132cm, 31kg의 왜소한 50대 여성이 180cm가 넘는 건장한 20세 남성에...</td>\n",
              "      <td>http://m.news1.kr/articles/?3464603\\n관련 기사입니다....</td>\n",
              "    </tr>\n",
              "  </tbody>\n",
              "</table>\n",
              "</div>"
            ],
            "text/plain": [
              "        article_id  ...                                            content\n",
              "313314      408609  ...  2018년 10월 14일 엊그제 일어난 강서구 피시방 살인사건에 대한 청원입니다.\\...\n",
              "208597      269548  ...  2012년 난민법 제정으로 인해 외국인은 한달 무비자로 입국할 수 있으나 난민신청자...\n",
              "118970      142600  ...  오늘 여자 단체전 팀추월에서 김보름, 박지우 선수는 팀전인데도 불구하고 개인의 영달...\n",
              "183791      230552  ...  최근 홍대 누드크로키 모델의 불법촬영 사건이 있었습니다.\\n사건은 굉장히 빠르게 처...\n",
              "327873      426834  ...  http://m.news1.kr/articles/?3464603\\n관련 기사입니다....\n",
              "\n",
              "[5 rows x 8 columns]"
            ]
          },
          "metadata": {
            "tags": []
          },
          "execution_count": 19
        }
      ]
    },
    {
      "cell_type": "markdown",
      "metadata": {
        "id": "Q4Zq12BpKDcd",
        "colab_type": "text"
      },
      "source": [
        "# 3등분 pie plot 및 bar plot"
      ]
    },
    {
      "cell_type": "code",
      "metadata": {
        "id": "VxuH50G1xee0",
        "colab_type": "code",
        "outputId": "096116fc-74b9-4ee7-c019-6f759ff15f47",
        "colab": {
          "base_uri": "https://localhost:8080/",
          "height": 35
        }
      },
      "source": [
        "# 20만 건 이상, 답변 받은 청원 수\n",
        "accept = data[data['votes']>=200000]\n",
        "accept_num = accept['votes'].count()\n",
        "accept_num"
      ],
      "execution_count": 20,
      "outputs": [
        {
          "output_type": "execute_result",
          "data": {
            "text/plain": [
              "72"
            ]
          },
          "metadata": {
            "tags": []
          },
          "execution_count": 20
        }
      ]
    },
    {
      "cell_type": "code",
      "metadata": {
        "id": "TFBvTr56y4xE",
        "colab_type": "code",
        "outputId": "c5ce619d-b483-40bb-c639-b645067e6175",
        "colab": {
          "base_uri": "https://localhost:8080/",
          "height": 35
        }
      },
      "source": [
        "# 10만 건 이상, 답변 못 받은 청원 수\n",
        "unsolved = data[data['votes']<200000]\n",
        "unsolved = data[data['votes']>=100000]\n",
        "unsolved_num = unsolved['votes'].count()\n",
        "unsolved_num"
      ],
      "execution_count": 21,
      "outputs": [
        {
          "output_type": "execute_result",
          "data": {
            "text/plain": [
              "97"
            ]
          },
          "metadata": {
            "tags": []
          },
          "execution_count": 21
        }
      ]
    },
    {
      "cell_type": "code",
      "metadata": {
        "id": "os13l1Hv8VPe",
        "colab_type": "code",
        "outputId": "dca06fe2-f961-40c8-cf53-bc12187e5dc7",
        "colab": {
          "base_uri": "https://localhost:8080/",
          "height": 35
        }
      },
      "source": [
        "# 10만 건 이하, 청원 수\n",
        "low_votes = data[data['votes']<100000]\n",
        "low_votes_num = accept['votes'].count()\n",
        "low_votes_num"
      ],
      "execution_count": 27,
      "outputs": [
        {
          "output_type": "execute_result",
          "data": {
            "text/plain": [
              "72"
            ]
          },
          "metadata": {
            "tags": []
          },
          "execution_count": 27
        }
      ]
    },
    {
      "cell_type": "code",
      "metadata": {
        "id": "HENWK4WwgTGP",
        "colab_type": "code",
        "colab": {}
      },
      "source": [
        "import seaborn as sns"
      ],
      "execution_count": 0,
      "outputs": []
    },
    {
      "cell_type": "code",
      "metadata": {
        "id": "WH0LLXjP8T6i",
        "colab_type": "code",
        "outputId": "7780360b-8fd7-45b1-8380-4399ed9d3001",
        "colab": {
          "base_uri": "https://localhost:8080/",
          "height": 303
        }
      },
      "source": [
        "# 10만 건 단위로 청원 수 퍼센티지\n",
        "label = ['low_votes', 'accept', 'unsolved']\n",
        "data = [72, 72, 97]\n",
        "plt.figure(figsize=(5, 5))\n",
        "plt.pie(data, labels=label, autopct='%.1f%%')\n",
        "plt.show()"
      ],
      "execution_count": 12,
      "outputs": [
        {
          "output_type": "display_data",
          "data": {
            "image/png": "[encoded data removed]",
            "text/plain": [
              "<Figure size 360x360 with 1 Axes>"
            ]
          },
          "metadata": {
            "tags": []
          }
        }
      ]
    },
    {
      "cell_type": "code",
      "metadata": {
        "id": "a9aFOs2Wgko1",
        "colab_type": "code",
        "outputId": "08aae345-c380-42e6-aff7-2cf1552f685a",
        "colab": {
          "base_uri": "https://localhost:8080/",
          "height": 392
        }
      },
      "source": [
        "# 청원 답변 완료(x > 200,000) 중 카테고리별 count() - bar plot\n",
        "ax = plt.subplots()\n",
        "ax = sns.countplot('category', data = accept)\n",
        "ax.set_title('Accede to a petition(x > 200,000)', fontsize=20)\n",
        "ax.set_xlabel('Category')\n",
        "ax.set_ylabel('Count')\n",
        "\n",
        "for label in ax.xaxis.get_ticklabels() :\n",
        "    label.set_rotation(85)"
      ],
      "execution_count": 0,
      "outputs": [
        {
          "output_type": "display_data",
          "data": {
            "image/png": "[encoded data removed]",
            "text/plain": [
              "<Figure size 432x288 with 1 Axes>"
            ]
          },
          "metadata": {
            "tags": []
          }
        }
      ]
    },
    {
      "cell_type": "code",
      "metadata": {
        "id": "xpWO8GVkaGMi",
        "colab_type": "code",
        "outputId": "1cab1b6b-3b3f-4909-ce7c-ff54e0977df9",
        "colab": {
          "base_uri": "https://localhost:8080/",
          "height": 392
        }
      },
      "source": [
        "# 미해결 청원(십만 건 이상 이십만 건 미만) 중 카테고리별 count() - bar plot\n",
        "ax = plt.subplots()\n",
        "ax = sns.countplot('category', data = unsolved)\n",
        "ax.set_title('100,000 <= x <200,000', fontsize=20)\n",
        "ax.set_xlabel('Category')\n",
        "ax.set_ylabel('Count')\n",
        "\n",
        "for label in ax.xaxis.get_ticklabels() :\n",
        "    label.set_rotation(85)\n"
      ],
      "execution_count": 0,
      "outputs": [
        {
          "output_type": "display_data",
          "data": {
            "image/png": "[encoded data removed]",
            "text/plain": [
              "<Figure size 432x288 with 1 Axes>"
            ]
          },
          "metadata": {
            "tags": []
          }
        }
      ]
    },
    {
      "cell_type": "code",
      "metadata": {
        "id": "ZZGzBeiDuQLa",
        "colab_type": "code",
        "outputId": "ff6f98c6-8047-4408-9d38-517c74cd6ca9",
        "colab": {
          "base_uri": "https://localhost:8080/",
          "height": 392
        }
      },
      "source": [
        "# 미해결 청원(십만 건 이상 이십만 건 미만) 중 카테고리별 count() - bar plot\n",
        "ax = plt.subplots()\n",
        "ax = sns.countplot('category', data = low_votes)\n",
        "ax.set_title('x < 100,000', fontsize=20)\n",
        "ax.set_xlabel('Category')\n",
        "ax.set_ylabel('Count')\n",
        "\n",
        "for label in ax.xaxis.get_ticklabels() :\n",
        "    label.set_rotation(85)\n"
      ],
      "execution_count": 0,
      "outputs": [
        {
          "output_type": "display_data",
          "data": {
            "image/png": "[encoded data removed]",
            "text/plain": [
              "<Figure size 432x288 with 1 Axes>"
            ]
          },
          "metadata": {
            "tags": []
          }
        }
      ]
    },
    {
      "cell_type": "markdown",
      "metadata": {
        "id": "lVtWRBWu8wQ_",
        "colab_type": "text"
      },
      "source": [
        "- 청원을 지지한 수를 **'0 ~ 100,000', '100,000 ~ 200,000 미만', '200,000 이상'**으로 나누었다.\n",
        "\n",
        "- 위의 3단계를 각각 카테고리별로 몇 개의 청원이 올라왔는지 bar.plot으로 살펴보았다.\n",
        "\n",
        "- 100,000 이상의 두 그래프의 경우 비슷한 양상을 보였으며, 주로 **'human_right'**에 국민의 많은 청원 및 지지율을 받았다.\n",
        "\n",
        "- 100,000 이하 청원의 경우 **'politics'**와 **'etc'**가 각각 1, 2위이고, 답변을 받지 못했지만, 다양한 카테고리에 국민들이 관심을 갖는 것을 확인할 수 있었다."
      ]
    },
    {
      "cell_type": "markdown",
      "metadata": {
        "id": "B2sp-1ra2XMV",
        "colab_type": "text"
      },
      "source": [
        "# Kdeplot, distplot (Votes) "
      ]
    },
    {
      "cell_type": "code",
      "metadata": {
        "id": "RcMVqr94MqWN",
        "colab_type": "code",
        "outputId": "3ab985e1-ee25-4faa-c0bc-8b4b21047ca0",
        "colab": {
          "base_uri": "https://localhost:8080/",
          "height": 282
        }
      },
      "source": [
        "sns.kdeplot(data = data.votes, shade=True)\n",
        "plt.title('Distribution of Votes')\n",
        "plt.legend()\n",
        "plt.xlim(0, 350000)\n",
        "plt.style.use('ggplot')\n",
        "\n",
        "plt.show()"
      ],
      "execution_count": 0,
      "outputs": [
        {
          "output_type": "display_data",
          "data": {
            "image/png": "[encoded data removed]",
            "text/plain": [
              "<Figure size 432x288 with 1 Axes>"
            ]
          },
          "metadata": {
            "tags": []
          }
        }
      ]
    }
  ]
}